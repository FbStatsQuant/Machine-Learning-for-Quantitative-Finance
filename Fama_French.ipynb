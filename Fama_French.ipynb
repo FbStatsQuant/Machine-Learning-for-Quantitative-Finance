{
 "cells": [
  {
   "cell_type": "code",
   "execution_count": 23,
   "metadata": {},
   "outputs": [],
   "source": [
    "import yfinance as yf\n",
    "import pandas as pd\n",
    "import numpy as np\n",
    "import statsmodels.api as sm\n",
    "import matplotlib.pyplot as plt\n",
    "import seaborn as sns\n",
    "import warnings\n",
    "from scipy.linalg import toeplitz\n",
    "from statsmodels.tsa.arima.model import ARIMA\n",
    "from itertools import product"
   ]
  },
  {
   "cell_type": "code",
   "execution_count": 32,
   "metadata": {},
   "outputs": [],
   "source": [
    "start_date = '2018-01-01'\n",
    "end_date = '2024-06-30'\n",
    "\n",
    "data = yf.download(['AAPL', 'SPY'], start=start_date, end=end_date, progress=False)['Close']\n",
    "\n",
    "returns = data.pct_change().dropna()\n",
    "returns.columns = ['AAPL_Return', 'Market_Return']"
   ]
  },
  {
   "cell_type": "code",
   "execution_count": 25,
   "metadata": {},
   "outputs": [],
   "source": [
    "ff_url = \"https://mba.tuck.dartmouth.edu/pages/faculty/ken.french/ftp/F-F_Research_Data_Factors_daily_CSV.zip\"\n",
    "ff_data = pd.read_csv(ff_url, skiprows=3)"
   ]
  },
  {
   "cell_type": "code",
   "execution_count": 26,
   "metadata": {},
   "outputs": [],
   "source": [
    "ff_data = ff_data.rename(columns={ff_data.columns[0]: \"Date\"})\n",
    "ff_data = ff_data[ff_data['Date'].str.isnumeric()]\n",
    "ff_data['Date'] = pd.to_datetime(ff_data['Date'], format='%Y%m%d')\n",
    "ff_data = ff_data.set_index('Date')\n",
    "ff_data = ff_data.astype(float) / 100\n",
    "start_date = returns.index.min()\n",
    "end_date = returns.index.max()\n",
    "\n",
    "ff_data = ff_data.loc[start_date:end_date] \n",
    "returns = returns.merge(ff_data[['Mkt-RF', 'SMB', 'HML', 'RF']], left_index=True, right_index=True)\n",
    "returns['Excess_AAPL'] = returns['AAPL_Return'] - returns['RF']\n",
    "returns['Excess_Market'] = returns['Market_Return'] - returns['RF']"
   ]
  },
  {
   "cell_type": "code",
   "execution_count": 27,
   "metadata": {},
   "outputs": [
    {
     "name": "stdout",
     "output_type": "stream",
     "text": [
      "                            OLS Regression Results                            \n",
      "==============================================================================\n",
      "Dep. Variable:            Excess_AAPL   R-squared:                       0.660\n",
      "Model:                            OLS   Adj. R-squared:                  0.660\n",
      "Method:                 Least Squares   F-statistic:                     1055.\n",
      "Date:                Fri, 07 Feb 2025   Prob (F-statistic):               0.00\n",
      "Time:                        17:49:51   Log-Likelihood:                 4979.0\n",
      "No. Observations:                1632   AIC:                            -9950.\n",
      "Df Residuals:                    1628   BIC:                            -9928.\n",
      "Df Model:                           3                                         \n",
      "Covariance Type:            nonrobust                                         \n",
      "==============================================================================\n",
      "                 coef    std err          t      P>|t|      [0.025      0.975]\n",
      "------------------------------------------------------------------------------\n",
      "const          0.0005      0.000      1.652      0.099   -8.78e-05       0.001\n",
      "Mkt-RF         1.1930      0.022     53.195      0.000       1.149       1.237\n",
      "SMB           -0.3020      0.041     -7.348      0.000      -0.383      -0.221\n",
      "HML           -0.3887      0.028    -14.083      0.000      -0.443      -0.335\n",
      "==============================================================================\n",
      "Omnibus:                      289.331   Durbin-Watson:                   1.900\n",
      "Prob(Omnibus):                  0.000   Jarque-Bera (JB):             2581.657\n",
      "Skew:                           0.555   Prob(JB):                         0.00\n",
      "Kurtosis:                       9.061   Cond. No.                         146.\n",
      "==============================================================================\n",
      "\n",
      "Notes:\n",
      "[1] Standard Errors assume that the covariance matrix of the errors is correctly specified.\n"
     ]
    }
   ],
   "source": [
    "X = returns[['Mkt-RF', 'SMB', 'HML']]\n",
    "X = sm.add_constant(X)\n",
    "y = returns['Excess_AAPL']\n",
    "\n",
    "ff_model = sm.OLS(y, X).fit()\n",
    "print(ff_model.summary())"
   ]
  },
  {
   "cell_type": "code",
   "execution_count": 28,
   "metadata": {},
   "outputs": [],
   "source": [
    "# Estimation of Sigma\n",
    "\n",
    "residuals = pd.Series(ff_model.resid)\n",
    "\n",
    "def find_best_arima(data, p_range, d_range, q_range):\n",
    "    best_aic = np.inf\n",
    "    best_order = None\n",
    "    best_model = None\n",
    "\n",
    "    for order in product(p_range, d_range, q_range):\n",
    "        try:\n",
    "            model = ARIMA(data, order=order).fit()\n",
    "            if model.aic < best_aic:\n",
    "                best_aic = model.aic\n",
    "                best_order = order\n",
    "                best_model = model\n",
    "        except:\n",
    "            continue \n",
    "\n",
    "    return best_model, best_order\n",
    "\n",
    "p_range = range(0, 4)\n",
    "d_range = range(0, 2)\n",
    "q_range = range(0, 4)\n",
    "\n",
    "warnings.filterwarnings(\"ignore\", message=\".*A date index has been provided.*\")\n",
    "warnings.filterwarnings(\"ignore\", category=UserWarning, message=\".*Non-stationary starting autoregressive parameters.*\")\n",
    "warnings.filterwarnings(\"ignore\", category=UserWarning, message=\".*Non-invertible starting MA parameters found.*\")\n",
    "warnings.filterwarnings(\"ignore\", category=UserWarning, message=\".*Maximum Likelihood optimization failed to converge.*\")\n",
    "\n",
    "model, best_order = find_best_arima(residuals, p_range, d_range, q_range)"
   ]
  },
  {
   "cell_type": "code",
   "execution_count": 29,
   "metadata": {},
   "outputs": [],
   "source": [
    "# Extract parameters\n",
    "sigma2 = model.scale \n",
    "ar_params = model.arparams if model.arparams.size > 0 else np.array([])\n",
    "ma_params = model.maparams if model.maparams.size > 0 else np.array([])\n",
    "\n",
    "# AR and MA polynomials\n",
    "ar_poly = np.r_[1, -ar_params] if ar_params.size else np.array([1])\n",
    "ma_poly = np.r_[1, ma_params] if ma_params.size else np.array([1])\n",
    "\n",
    "# Manual autocovariance computation\n",
    "def compute_acovf(ar, ma, sigma2, lags):\n",
    "    acovf = np.zeros(lags)\n",
    "    acovf[0] = sigma2 * (1 + np.sum(ma**2)) / (1 - np.sum(ar**2)) if np.sum(ar**2) < 1 else sigma2\n",
    "\n",
    "    for lag in range(1, lags):\n",
    "       \n",
    "        ar_slice = ar[:min(lag, len(ar))]\n",
    "        acovf_slice = acovf[:lag][::-1]\n",
    "\n",
    "        \n",
    "        if len(ar_slice) != len(acovf_slice):\n",
    "            diff = abs(len(ar_slice) - len(acovf_slice))\n",
    "            if len(ar_slice) < len(acovf_slice):\n",
    "                ar_slice = np.pad(ar_slice, (0, diff))\n",
    "            else:\n",
    "                acovf_slice = np.pad(acovf_slice, (0, diff))\n",
    "\n",
    "        acovf[lag] = np.dot(ar_slice, acovf_slice)\n",
    "\n",
    "    return acovf\n",
    "\n",
    "\n",
    "acovf = compute_acovf(ar_params, ma_params, sigma2, len(residuals))\n",
    "\n",
    "\n",
    "cov_matrix = toeplitz(acovf)\n"
   ]
  },
  {
   "cell_type": "code",
   "execution_count": 30,
   "metadata": {},
   "outputs": [
    {
     "name": "stdout",
     "output_type": "stream",
     "text": [
      "                            GLS Regression Results                            \n",
      "==============================================================================\n",
      "Dep. Variable:            Excess_AAPL   R-squared:                       0.660\n",
      "Model:                            GLS   Adj. R-squared:                  0.660\n",
      "Method:                 Least Squares   F-statistic:                     1055.\n",
      "Date:                Fri, 07 Feb 2025   Prob (F-statistic):               0.00\n",
      "Time:                        17:50:05   Log-Likelihood:                 4979.0\n",
      "No. Observations:                1632   AIC:                            -9950.\n",
      "Df Residuals:                    1628   BIC:                            -9928.\n",
      "Df Model:                           3                                         \n",
      "Covariance Type:            nonrobust                                         \n",
      "==============================================================================\n",
      "                 coef    std err          t      P>|t|      [0.025      0.975]\n",
      "------------------------------------------------------------------------------\n",
      "const          0.0005      0.000      1.652      0.099   -8.78e-05       0.001\n",
      "Mkt-RF         1.1930      0.022     53.195      0.000       1.149       1.237\n",
      "SMB           -0.3020      0.041     -7.348      0.000      -0.383      -0.221\n",
      "HML           -0.3887      0.028    -14.083      0.000      -0.443      -0.335\n",
      "==============================================================================\n",
      "Omnibus:                      289.331   Durbin-Watson:                   1.900\n",
      "Prob(Omnibus):                  0.000   Jarque-Bera (JB):             2581.657\n",
      "Skew:                           0.555   Prob(JB):                         0.00\n",
      "Kurtosis:                       9.061   Cond. No.                         146.\n",
      "==============================================================================\n",
      "\n",
      "Notes:\n",
      "[1] Standard Errors assume that the covariance matrix of the errors is correctly specified.\n"
     ]
    }
   ],
   "source": [
    "#GLS\n",
    "\n",
    "ff_gls = sm.GLS(y, X, sigma=cov_matrix).fit()\n",
    "print(ff_gls.summary())"
   ]
  }
 ],
 "metadata": {
  "kernelspec": {
   "display_name": "Python 3",
   "language": "python",
   "name": "python3"
  },
  "language_info": {
   "codemirror_mode": {
    "name": "ipython",
    "version": 3
   },
   "file_extension": ".py",
   "mimetype": "text/x-python",
   "name": "python",
   "nbconvert_exporter": "python",
   "pygments_lexer": "ipython3",
   "version": "3.13.1"
  }
 },
 "nbformat": 4,
 "nbformat_minor": 2
}
